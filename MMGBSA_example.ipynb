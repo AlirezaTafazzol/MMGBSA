{
 "cells": [
  {
   "cell_type": "code",
   "execution_count": 1,
   "metadata": {
    "collapsed": true
   },
   "outputs": [],
   "source": [
    "import subprocess\n",
    "import os\n",
    "from glob import glob\n",
    "import numpy as np\n",
    "import matplotlib.pyplot as plt\n",
    "import pandas as pd\n",
    "import sys\n",
    "%matplotlib inline"
   ]
  },
  {
   "cell_type": "code",
   "execution_count": 3,
   "metadata": {
    "collapsed": true
   },
   "outputs": [],
   "source": [
    "def main(data_dir, output_dir, output_file, plot_title, verbose=True, plot=True):\n",
    "\n",
    "    # first move to data directory and create an Analysis folder to dump all the data\n",
    "    # mmgbsa_parser.sh is called to extract all the data\n",
    "    os.chdir(data_dir)\n",
    "    print os.getcwd()\n",
    "    subprocess.call(['bash', '/Users/gil_f.hoben/bin/mmpbsa_parser.sh'])\n",
    "\n",
    "    complex_total = np.loadtxt('./Analysis/data._MMPBSA_complex_gb')\n",
    "    receptor_total = np.loadtxt('./Analysis/data._MMPBSA_receptor_gb')\n",
    "    ligand_total = np.loadtxt('./Analysis/data._MMPBSA_ligand_gb')\n",
    "    \n",
    "    if not os.path.exists(output_dir):\n",
    "        os.makedirs(output_dir)\n",
    "    os.chdir(output_dir)\n",
    "    \n",
    "    print 'Output Directory: ', os.getcwd()\n",
    "\n",
    "    if verbose:\n",
    "\n",
    "        print 'Average complex Energy: %.2f kcal/mol' % complex_total.mean()\n",
    "        print 'Average receptor Energy: %.2f kcal/mol' % receptor_total.mean()\n",
    "        print 'Average ligand Energy: %.2f kcal/mol' % ligand_total.mean()\n",
    "\n",
    "    # calculate delta total\n",
    "    delta_total = complex_total - receptor_total - ligand_total\n",
    "\n",
    "    if verbose:\n",
    "\n",
    "        print 'Average Delta Total: %.2f kcal/mol' % delta_total.mean()\n",
    "        print 'Standard Deviation of Delta Total: %.2f' % delta_total.std()\n",
    "\n",
    "    names = ['Complex Contribution', 'Receptor Contribution', 'Ligand Contribution', '$\\Delta$ Total']\n",
    "\n",
    "    if plot:\n",
    "        plt.figure(figsize=(12,12))\n",
    "        plt.suptitle(plot_title, size = 22)\n",
    "        for i,data in enumerate([complex_total, receptor_total, ligand_total, delta_total]):\n",
    "            plt.subplot(2,2,i+1)\n",
    "            plt.title(names[i], size=16)\n",
    "            plt.plot(pd.rolling_mean(pd.DataFrame(data), 50), \n",
    "                label = 'Average = %.2f kcal/mol\\nStandard deviation = %.2f' % (data.mean(), data.std()))\n",
    "            plt.ylabel('kcal/mol', size =15)\n",
    "            plt.xlabel('Frame number', size =15)\n",
    "            plt.legend(prop={'size':8})\n",
    "            plt.tight_layout()\n",
    "            plt.subplots_adjust(hspace=0.2, top=.9)\n",
    "        plt.plot()"
   ]
  },
  {
   "cell_type": "code",
   "execution_count": null,
   "metadata": {
    "collapsed": false
   },
   "outputs": [
    {
     "name": "stdout",
     "output_type": "stream",
     "text": [
      "/Users/gil_f.hoben/Troponin_md_processed/MD1/run1/free_energy\n"
     ]
    }
   ],
   "source": [
    "data_dir='/Users/gil_f.hoben/Troponin_md_processed/MD1/run1/free_energy/'\n",
    "output_dir='/Users/gil_f.hoben/Troponin_md_processed/MD1/run1/free_energy/output'\n",
    "output_file='MMGBSA_MD1_run1'\n",
    "plot_title='MMGBSA MD1 run1'\n",
    "main(data_dir, output_dir, output_file, plot_title)"
   ]
  },
  {
   "cell_type": "code",
   "execution_count": null,
   "metadata": {
    "collapsed": true
   },
   "outputs": [],
   "source": []
  }
 ],
 "metadata": {
  "kernelspec": {
   "display_name": "Python 2",
   "language": "python",
   "name": "python2"
  },
  "language_info": {
   "codemirror_mode": {
    "name": "ipython",
    "version": 2
   },
   "file_extension": ".py",
   "mimetype": "text/x-python",
   "name": "python",
   "nbconvert_exporter": "python",
   "pygments_lexer": "ipython2",
   "version": "2.7.11"
  }
 },
 "nbformat": 4,
 "nbformat_minor": 0
}
